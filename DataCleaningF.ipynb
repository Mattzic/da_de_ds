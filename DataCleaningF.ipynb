{
 "cells": [
  {
   "cell_type": "code",
   "execution_count": 55,
   "id": "proved-ribbon",
   "metadata": {},
   "outputs": [],
   "source": [
    "import numpy as np\n",
    "import pandas as pd\n",
    "import re\n",
    "from numpy.random import default_rng\n",
    "import matplotlib.pyplot as plt\n",
    "import warnings\n",
    "warnings.filterwarnings('ignore')\n",
    "pd.set_option('max_columns',100) \n",
    "pd.set_option('max_rows',500)  \n",
    "File_Path = ['DataAnalyst.csv', 'DataEngineer.csv', 'DataScientist.csv']\n",
    "Save_Path = 'AllData.csv'\n",
    "r_dic = {'million': 1000000, 'billion':1000000000}"
   ]
  },
  {
   "cell_type": "code",
   "execution_count": 56,
   "id": "dental-scholarship",
   "metadata": {},
   "outputs": [],
   "source": [
    "def read_data(File_Path):\n",
    "    df = pd.read_csv(File_Path)\n",
    "    return df"
   ]
  },
  {
   "cell_type": "code",
   "execution_count": 57,
   "id": "innovative-bracket",
   "metadata": {},
   "outputs": [],
   "source": [
    "def clean_job(path, df):\n",
    "    name = path[0:-4]\n",
    "    df['Job Title'] = [name for _ in range(len(df))]\n",
    "    return df"
   ]
  },
  {
   "cell_type": "code",
   "execution_count": 58,
   "id": "optional-interest",
   "metadata": {},
   "outputs": [],
   "source": [
    "def clean_salary(df):\n",
    "    df['Lo Salary'] = df['Salary Estimate'].str.extract(r'^\\s*\\$(\\d+\\.*\\d*[kK])[^0-9]', expand=True)\n",
    "    df['Lo Salary'] = df['Lo Salary'].str.replace(r'[kK]$', '000')\n",
    "    df['Hi Salary'] = df['Salary Estimate'].str.extract(r'\\s*-\\s*\\$(\\d+\\.*\\d*[kK])[^0-9]', expand=True)\n",
    "    df['Hi Salary'] = df['Hi Salary'].str.replace(r'[kK]$', '000')\n",
    "    return df"
   ]
  },
  {
   "cell_type": "code",
   "execution_count": 59,
   "id": "relative-findings",
   "metadata": {},
   "outputs": [],
   "source": [
    "def clean_cname(df):\n",
    "    df['Company Name'] = df['Company Name'].str.replace('\\\\n\\d\\.*\\d*','')\n",
    "    return df"
   ]
  },
  {
   "cell_type": "code",
   "execution_count": 60,
   "id": "nervous-creator",
   "metadata": {},
   "outputs": [],
   "source": [
    "def clean_location(df):\n",
    "    df[['Area', 'State']] = df['Location'].str.split(',', n=1, expand=True)\n",
    "    df.State.replace(' Arapahoe, CO', ' CO', inplace=True)\n",
    "    return df"
   ]
  },
  {
   "cell_type": "code",
   "execution_count": 61,
   "id": "chicken-kazakhstan",
   "metadata": {},
   "outputs": [],
   "source": [
    "# constraint, for example number employees should be at least 1\n",
    "# if less than 1, set to 'Unknown'\n",
    "def RemoveStranger(x):\n",
    "    x = x.strip()\n",
    "    if re.match('(^-[1-9]+\\d*$)|(^0$)', x):\n",
    "        return 'Unknown'\n",
    "    return x"
   ]
  },
  {
   "cell_type": "code",
   "execution_count": 62,
   "id": "assigned-opposition",
   "metadata": {},
   "outputs": [],
   "source": [
    "def clean_size(df):\n",
    "    df['Size'] = df['Size'].apply(RemoveStranger)\n",
    "    df['Size'] = df['Size'].str.replace(r' employees$', '')\n",
    "    df['Size'] = df['Size'].str.replace(r'\\s*to\\s*', ',')\n",
    "    df[['Lo Em','Hi Em']] = df['Size'].str.split(',', n=1, expand=True)\n",
    "    df['Lo Em'] = df['Lo Em'].str.replace('+', '')\n",
    "    df['Hi Em'] = df['Hi Em'].astype(str)\n",
    "    df['Hi Em'] = df['Hi Em'].str.replace('None', 'Unknown')\n",
    "    return df"
   ]
  },
  {
   "cell_type": "code",
   "execution_count": 63,
   "id": "intended-police",
   "metadata": {},
   "outputs": [],
   "source": [
    "def clean_headquarters(df):\n",
    "    df.Headquarters = df.Headquarters.apply(RemoveStranger)\n",
    "    return df"
   ]
  },
  {
   "cell_type": "code",
   "execution_count": 64,
   "id": "brown-posting",
   "metadata": {},
   "outputs": [],
   "source": [
    "def clean_industry(df):\n",
    "    df.Industry = df.Industry.apply(RemoveStranger)\n",
    "    return df"
   ]
  },
  {
   "cell_type": "code",
   "execution_count": 65,
   "id": "latest-animation",
   "metadata": {},
   "outputs": [],
   "source": [
    "def clean_sector(df):\n",
    "    df.Sector = df.Sector.apply(RemoveStranger)\n",
    "    return df"
   ]
  },
  {
   "cell_type": "code",
   "execution_count": 66,
   "id": "canadian-parallel",
   "metadata": {},
   "outputs": [],
   "source": [
    "def clean_rev(df):\n",
    "    df.Revenue = df.Revenue.apply(RemoveStranger)\n",
    "    df.Revenue.astype('str')\n",
    "    def preliminary_clean(x):\n",
    "        x = x.strip()\n",
    "    #     pat = r'^(Less than)*[^0-9]*(\\d*)(\\+)*[^0-9a-z]*(million|billion)*[^0-9]*(\\d+)*[^0-9a-z]*(million|billion)'\n",
    "        pat = r'^(Less than)*[^0-9]*(\\d*)[^0-9a-z]*(million|billion)*[^0-9]*(\\d+)*[^0-9a-z]*(million|billion)'\n",
    "        m = re.match(pat, x, re.I)\n",
    "        res = ''\n",
    "        if m:\n",
    "            if m.group(1):\n",
    "                res += str(m.group(1))\n",
    "            if m.group(2):\n",
    "                lo_r = int(m.group(2))\n",
    "            if m.group(3):\n",
    "                lo_r *= int(r_dic[str(m.group(3))])\n",
    "                res += str(lo_r)\n",
    "            if m.group(3) == None:\n",
    "                lo_r *= int(r_dic[str(m.group(5))])\n",
    "                res += str(lo_r)            \n",
    "    #         if m.group(3):\n",
    "    #             res += str(m.group(3))\n",
    "            if m.group(4):\n",
    "                res+=','\n",
    "                hi_r = int(m.group(4))\n",
    "                hi_r *= int(r_dic[str(m.group(5))])\n",
    "                res += str(hi_r)\n",
    "        else:\n",
    "            res = 'Unknown'\n",
    "        return res\n",
    "\n",
    "    df.Revenue = df.Revenue.apply(preliminary_clean)\n",
    "    \n",
    "    df[['Lo Rev', 'Hi Rev']] = df.Revenue.str.split(',', expand=True)\n",
    "\n",
    "    df['Hi Rev'] = df['Hi Rev'].astype(str)\n",
    "    for i, v in enumerate (df['Hi Rev'].values):\n",
    "        v = v.strip()\n",
    "        if v == 'None':\n",
    "            if 'Less than' in df['Lo Rev'][i]:\n",
    "                v = df['Lo Rev'][i].strip('Less than')\n",
    "                df.loc[i,'Lo Rev'] = 'Unknown'\n",
    "            elif df['Lo Rev'][i] != 'Unknown':\n",
    "                v = df['Lo Rev'][i]\n",
    "            else:    \n",
    "                v = 'Unknown'\n",
    "        df.loc[i,'Hi Rev'] = v\n",
    "    return df"
   ]
  },
  {
   "cell_type": "code",
   "execution_count": 67,
   "id": "adolescent-hazard",
   "metadata": {},
   "outputs": [],
   "source": [
    "def discretization_bs(df):\n",
    "    df['Lo Rev'] = df['Lo Rev'].str.replace('Unknown', '-1')\n",
    "    df['Hi Rev'] = df['Hi Rev'].str.replace('Unknown', '-1')\n",
    "    df['Lo Em'] = df['Lo Em'].str.replace('Unknown', '-1')\n",
    "    df['Hi Em'] = df['Hi Em'].str.replace('Unknown', '-1')\n",
    "    df['Lo Rev'] = df['Lo Rev'].astype('int64')\n",
    "    df['Hi Rev'] = df['Hi Rev'].astype('int64')\n",
    "    df['Lo Em'] = df['Lo Em'].astype('int64')\n",
    "    df['Hi Em'] = df['Hi Em'].astype('int64')\n",
    "    \n",
    "    df['BS_R'] = pd.cut(x=df['Hi Rev'],\n",
    "                        bins=[-2, 0, 2000000, 10000000, 50000000, 100000000000],\n",
    "                        labels=['Other','Micro','Small', 'Medium', 'Large'])\n",
    "    df['BS_E'] = pd.cut(x=df['Hi Em'],\n",
    "                        bins=[-2, 0, 10, 50, 250, 10000],\n",
    "                        labels=['Other','Micro','Small', 'Medium', 'Large'])\n",
    "    \n",
    "    for i,v in enumerate(df['BS_R'].values):\n",
    "        v = v.strip()\n",
    "        if v == 'Other':\n",
    "            if df['BS_E'][i] != 'Other':\n",
    "                df.loc[i,'BS_R'] = df['BS_E'][i]\n",
    "    return df"
   ]
  },
  {
   "cell_type": "code",
   "execution_count": 68,
   "id": "configured-height",
   "metadata": {},
   "outputs": [],
   "source": [
    "def clean(File_Path):\n",
    "    df = read_data(File_Path)\n",
    "    df = clean_job(File_Path, df)\n",
    "    df = clean_salary(df)\n",
    "    df = clean_cname(df)\n",
    "    df = clean_location(df)\n",
    "    df = clean_size(df)\n",
    "    df = clean_headquarters(df)\n",
    "    df = clean_industry(df)\n",
    "    df = clean_sector(df)\n",
    "    df = clean_rev(df)\n",
    "    df = discretization_bs(df)\n",
    "    return df"
   ]
  },
  {
   "cell_type": "code",
   "execution_count": 69,
   "id": "falling-sacrifice",
   "metadata": {},
   "outputs": [],
   "source": [
    "def data_preprocessing():\n",
    "    data_list = []\n",
    "    for path in File_Path:\n",
    "        data_list.append(clean(path))\n",
    "    data = pd.concat(data_list)\n",
    "    data.reset_index()\n",
    "    data.drop(['Unnamed: 0', 'index'],axis=1,inplace=True)\n",
    "    data.to_csv(Save_Path)"
   ]
  },
  {
   "cell_type": "code",
   "execution_count": 70,
   "id": "successful-grain",
   "metadata": {},
   "outputs": [],
   "source": [
    "data_preprocessing()"
   ]
  }
 ],
 "metadata": {
  "kernelspec": {
   "display_name": "Python 3",
   "language": "python",
   "name": "python3"
  },
  "language_info": {
   "codemirror_mode": {
    "name": "ipython",
    "version": 3
   },
   "file_extension": ".py",
   "mimetype": "text/x-python",
   "name": "python",
   "nbconvert_exporter": "python",
   "pygments_lexer": "ipython3",
   "version": "3.8.8"
  }
 },
 "nbformat": 4,
 "nbformat_minor": 5
}
