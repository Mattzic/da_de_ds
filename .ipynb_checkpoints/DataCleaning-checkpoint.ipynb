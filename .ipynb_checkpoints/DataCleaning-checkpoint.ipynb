{
 "cells": [
  {
   "cell_type": "code",
   "execution_count": 1,
   "id": "cardiovascular-bowling",
   "metadata": {},
   "outputs": [],
   "source": [
    "import numpy as np\n",
    "import pandas as pd\n",
    "import re\n",
    "from numpy.random import default_rng\n",
    "import matplotlib.pyplot as plt\n",
    "import warnings\n",
    "warnings.filterwarnings('ignore')\n",
    "pd.set_option('max_columns',100) \n",
    "pd.set_option('max_rows',500)  \n",
    "File_Path = 'DataAnalyst.csv'"
   ]
  },
  {
   "cell_type": "code",
   "execution_count": 2,
   "id": "experimental-prior",
   "metadata": {},
   "outputs": [],
   "source": [
    "df = pd.read_csv(File_Path)"
   ]
  },
  {
   "cell_type": "markdown",
   "id": "polish-baking",
   "metadata": {},
   "source": [
    "## Clean Salary Estimate"
   ]
  },
  {
   "cell_type": "code",
   "execution_count": 3,
   "id": "running-motorcycle",
   "metadata": {},
   "outputs": [],
   "source": [
    "df['Lo Salary'] = df['Salary Estimate'].str.extract(r'^\\s*\\$(\\d+\\.*\\d*[kK])[^0-9]', expand=True)\n",
    "df['Lo Salary'] = df['Lo Salary'].str.replace(r'[kK]$', '000')\n",
    "df['Hi Salary'] = df['Salary Estimate'].str.extract(r'\\s*-\\s*\\$(\\d+\\.*\\d*[kK])[^0-9]', expand=True)\n",
    "df['Hi Salary'] = df['Hi Salary'].str.replace(r'[kK]$', '000')\n",
    "df.drop(['Salary Estimate'], axis=1, inplace=True)"
   ]
  },
  {
   "cell_type": "markdown",
   "id": "painted-lyric",
   "metadata": {},
   "source": [
    "## Clean Company Name"
   ]
  },
  {
   "cell_type": "code",
   "execution_count": 4,
   "id": "coordinate-blend",
   "metadata": {},
   "outputs": [],
   "source": [
    "df['Company Name'] = df['Company Name'].str.replace('\\\\n\\d\\.*\\d*','')"
   ]
  },
  {
   "cell_type": "markdown",
   "id": "proof-intro",
   "metadata": {},
   "source": [
    "## Clean Size"
   ]
  },
  {
   "cell_type": "code",
   "execution_count": 5,
   "id": "complimentary-refrigerator",
   "metadata": {},
   "outputs": [],
   "source": [
    "# constraint, number employees should be at least 1\n",
    "# if less than 1, set to 'Unknown'\n",
    "def RemoveStranger(x):\n",
    "    x = x.strip()\n",
    "    if re.match('(^-[1-9]+\\d*$)|(^0$)', x):\n",
    "        return 'Unkonwn'\n",
    "    return x\n",
    "\n",
    "df['Size'] = df['Size'].apply(RemoveStranger)\n",
    "df['Size'] = df['Size'].str.replace(r' employees$', '')\n",
    "df['Size'] = df['Size'].str.replace(r'\\s*to\\s*', ',')\n",
    "df[['Lo Em','Hi Em']] = df['Size'].str.split(',', n=1, expand=True)\n",
    "df['Lo Em'] = df['Lo Em'].str.replace('+', '')\n",
    "df['Hi Em'] = df['Hi Em'].astype(str)\n",
    "df['Hi Em'] = df['Hi Em'].str.replace('None', 'Unknown')\n",
    "df = df.drop(['Size'],axis=1)"
   ]
  },
  {
   "cell_type": "markdown",
   "id": "gothic-stevens",
   "metadata": {},
   "source": [
    "## Clean Headquarters"
   ]
  },
  {
   "cell_type": "code",
   "execution_count": 6,
   "id": "intermediate-treasure",
   "metadata": {},
   "outputs": [],
   "source": [
    "df.Headquarters = df.Headquarters.apply(RemoveStranger)"
   ]
  },
  {
   "cell_type": "markdown",
   "id": "likely-facility",
   "metadata": {},
   "source": [
    "## Clean Industry"
   ]
  },
  {
   "cell_type": "code",
   "execution_count": 7,
   "id": "conceptual-baltimore",
   "metadata": {},
   "outputs": [],
   "source": [
    "df.Industry = df.Industry.apply(RemoveStranger)"
   ]
  },
  {
   "cell_type": "markdown",
   "id": "phantom-amino",
   "metadata": {},
   "source": [
    "## Clean Sector"
   ]
  },
  {
   "cell_type": "code",
   "execution_count": 8,
   "id": "valued-coordination",
   "metadata": {},
   "outputs": [],
   "source": [
    "df.Sector = df.Sector.apply(RemoveStranger)"
   ]
  },
  {
   "cell_type": "markdown",
   "id": "coastal-knowing",
   "metadata": {},
   "source": [
    "## Clean Revenue"
   ]
  },
  {
   "cell_type": "code",
   "execution_count": 9,
   "id": "simplified-walter",
   "metadata": {},
   "outputs": [],
   "source": [
    "r_dic = {'million': 1000000, 'billion':1000000000}"
   ]
  },
  {
   "cell_type": "code",
   "execution_count": 10,
   "id": "anticipated-insured",
   "metadata": {},
   "outputs": [],
   "source": [
    "df.Revenue = df.Revenue.apply(RemoveStranger)"
   ]
  },
  {
   "cell_type": "code",
   "execution_count": 11,
   "id": "facial-mobility",
   "metadata": {},
   "outputs": [],
   "source": [
    "df.Revenue.astype('str')\n",
    "def preliminary_clean(x):\n",
    "    x = x.strip()\n",
    "#     pat = r'^(Less than)*[^0-9]*(\\d*)(\\+)*[^0-9a-z]*(million|billion)*[^0-9]*(\\d+)*[^0-9a-z]*(million|billion)'\n",
    "    pat = r'^(Less than)*[^0-9]*(\\d*)[^0-9a-z]*(million|billion)*[^0-9]*(\\d+)*[^0-9a-z]*(million|billion)'\n",
    "    m = re.match(pat, x, re.I)\n",
    "    res = ''\n",
    "    if m:\n",
    "        if m.group(1):\n",
    "            res += str(m.group(1))\n",
    "        if m.group(2):\n",
    "            lo_r = int(m.group(2))\n",
    "        if m.group(3):\n",
    "            lo_r *= int(r_dic[str(m.group(3))])\n",
    "            res += str(lo_r)\n",
    "        if m.group(3) == None:\n",
    "            lo_r *= int(r_dic[str(m.group(5))])\n",
    "            res += str(lo_r)            \n",
    "#         if m.group(3):\n",
    "#             res += str(m.group(3))\n",
    "        if m.group(4):\n",
    "            res+=','\n",
    "            hi_r = int(m.group(4))\n",
    "            hi_r *= int(r_dic[str(m.group(5))])\n",
    "            res += str(hi_r)\n",
    "    else:\n",
    "        res = 'Unknown'\n",
    "    return res\n",
    "\n",
    "df.Revenue = df.Revenue.apply(preliminary_clean)"
   ]
  },
  {
   "cell_type": "code",
   "execution_count": 12,
   "id": "mature-citation",
   "metadata": {},
   "outputs": [],
   "source": [
    "df[['Lo Rev', 'Hi Rev']] = df.Revenue.str.split(',', expand=True)\n",
    "\n",
    "df['Hi Rev'] = df['Hi Rev'].astype(str)\n",
    "for i, v in enumerate (df['Hi Rev'].values):\n",
    "    v = v.strip()\n",
    "    if v == 'None':\n",
    "        if 'Less than' in df['Lo Rev'][i]:\n",
    "            v = df['Lo Rev'][i].strip('Less than')\n",
    "            df.loc[i,'Lo Rev'] = 'Unknown'\n",
    "        else:\n",
    "            v = 'Unknown'\n",
    "    df.loc[i,'Hi Rev'] = v       "
   ]
  },
  {
   "cell_type": "code",
   "execution_count": 13,
   "id": "corporate-introduction",
   "metadata": {},
   "outputs": [],
   "source": [
    "# to do: 公司分级； JD关键词"
   ]
  }
 ],
 "metadata": {
  "kernelspec": {
   "display_name": "Python 3",
   "language": "python",
   "name": "python3"
  },
  "language_info": {
   "codemirror_mode": {
    "name": "ipython",
    "version": 3
   },
   "file_extension": ".py",
   "mimetype": "text/x-python",
   "name": "python",
   "nbconvert_exporter": "python",
   "pygments_lexer": "ipython3",
   "version": "3.8.8"
  }
 },
 "nbformat": 4,
 "nbformat_minor": 5
}
